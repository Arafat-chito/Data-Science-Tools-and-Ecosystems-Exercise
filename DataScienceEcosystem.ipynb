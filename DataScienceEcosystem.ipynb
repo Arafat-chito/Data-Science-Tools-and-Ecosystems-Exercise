{
 "cells": [
  {
   "cell_type": "markdown",
   "id": "14f71094-ec3e-413e-b8f3-1ff4d8003dbf",
   "metadata": {},
   "source": [
    "# Data Science Tools and Ecosystem"
   ]
  },
  {
   "cell_type": "markdown",
   "id": "0d3ffe86-804c-43bb-b712-6d8a25f8c261",
   "metadata": {},
   "source": [
    "In this notebook, Data Science Tools and Ecosystem are summarized."
   ]
  },
  {
   "cell_type": "markdown",
   "id": "9a622335-c7cc-45b8-812c-4094cfcd11ab",
   "metadata": {},
   "source": [
    "Some of the popular languages that Data Scinetists use are:\n",
    "1. Python\n",
    "2. SQL\n",
    "3. R Studio"
   ]
  },
  {
   "cell_type": "markdown",
   "id": "b7107c65-017f-450e-8e32-b40cbc45c36f",
   "metadata": {},
   "source": [
    "Some of the commonly used libraries by Data Scientists include:\n",
    "1. Pandas\n",
    "2. NumPy\n",
    "3. Matplotlib"
   ]
  },
  {
   "cell_type": "markdown",
   "id": "aed8fa56-166e-45de-b83c-b10e5022f8f6",
   "metadata": {},
   "source": [
    "|Data Science Tools |\n",
    "|----------------- |\n",
    "|Python |\n",
    "|Jupyter Notebook |\n",
    "|Apache Superset |"
   ]
  },
  {
   "cell_type": "markdown",
   "id": "0fbf4db9-8baa-47b6-86ba-7419b0fb4c9a",
   "metadata": {},
   "source": [
    "### Below are a few evaluating arithmetic expressions in Python."
   ]
  },
  {
   "cell_type": "code",
   "execution_count": 2,
   "id": "7b7adcc9-9610-48aa-89b6-f52a8e83d343",
   "metadata": {},
   "outputs": [
    {
     "data": {
      "text/plain": [
       "17"
      ]
     },
     "execution_count": 2,
     "metadata": {},
     "output_type": "execute_result"
    }
   ],
   "source": [
    "# This is a simple arithmetic expression to multiply then add integers. \n",
    "(3*4)+5"
   ]
  },
  {
   "cell_type": "code",
   "execution_count": 6,
   "id": "e804da86-a913-4a78-b68b-5269bca6c147",
   "metadata": {},
   "outputs": [
    {
     "data": {
      "text/plain": [
       "3.3333333333333335"
      ]
     },
     "execution_count": 6,
     "metadata": {},
     "output_type": "execute_result"
    }
   ],
   "source": [
    "# This will convert 200 minutes to hours by dividing by 60\n",
    "200/60"
   ]
  },
  {
   "cell_type": "markdown",
   "id": "c4812cde-05c7-4dfa-a1e0-7561b0ada4d6",
   "metadata": {},
   "source": [
    "**Objectives**\n",
    "- Arithmetic\n",
    "- Pandas\n",
    "- SQL\n",
    "- NumPy\n",
    "- Multiply & Divide"
   ]
  },
  {
   "cell_type": "markdown",
   "id": "4ff31e53-a980-4aa3-a282-5ae872ff8136",
   "metadata": {},
   "source": [
    "## Author\n",
    "Arafat Chito"
   ]
  },
  {
   "cell_type": "code",
   "execution_count": null,
   "id": "fbd49074-3aee-4d7c-8c46-e1fffb6b7dd4",
   "metadata": {},
   "outputs": [],
   "source": []
  }
 ],
 "metadata": {
  "kernelspec": {
   "display_name": "Python 3 (ipykernel)",
   "language": "python",
   "name": "python3"
  },
  "language_info": {
   "codemirror_mode": {
    "name": "ipython",
    "version": 3
   },
   "file_extension": ".py",
   "mimetype": "text/x-python",
   "name": "python",
   "nbconvert_exporter": "python",
   "pygments_lexer": "ipython3",
   "version": "3.12.8"
  }
 },
 "nbformat": 4,
 "nbformat_minor": 5
}
